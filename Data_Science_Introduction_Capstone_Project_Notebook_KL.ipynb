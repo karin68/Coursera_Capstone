{
 "cells": [
  {
   "cell_type": "markdown",
   "metadata": {},
   "source": [
    "# **Datascience introduction - Capstone Project**"
   ]
  },
  {
   "cell_type": "markdown",
   "metadata": {},
   "source": [
    "### **Week 3 - Segmenting and clustering**"
   ]
  },
  {
   "cell_type": "markdown",
   "metadata": {},
   "source": [
    "#### **Install packages**"
   ]
  },
  {
   "cell_type": "markdown",
   "metadata": {},
   "source": [
    "Intall the webpage scraping package 'Beautiful Soup' and the html5 parser package"
   ]
  },
  {
   "cell_type": "code",
   "execution_count": 2,
   "metadata": {},
   "outputs": [
    {
     "name": "stdout",
     "output_type": "stream",
     "text": [
      "Solving environment: done\n",
      "\n",
      "\n",
      "==> WARNING: A newer version of conda exists. <==\n",
      "  current version: 4.5.11\n",
      "  latest version: 4.7.11\n",
      "\n",
      "Please update conda by running\n",
      "\n",
      "    $ conda update -n base -c defaults conda\n",
      "\n",
      "\n",
      "\n",
      "## Package Plan ##\n",
      "\n",
      "  environment location: /home/jupyterlab/conda/envs/python\n",
      "\n",
      "  added / updated specs: \n",
      "    - beautifulsoup4\n",
      "\n",
      "\n",
      "The following packages will be downloaded:\n",
      "\n",
      "    package                    |            build\n",
      "    ---------------------------|-----------------\n",
      "    soupsieve-1.9.2            |           py36_0          59 KB  conda-forge\n",
      "    beautifulsoup4-4.8.0       |           py36_0         144 KB  conda-forge\n",
      "    ------------------------------------------------------------\n",
      "                                           Total:         202 KB\n",
      "\n",
      "The following NEW packages will be INSTALLED:\n",
      "\n",
      "    soupsieve:      1.9.2-py36_0 conda-forge\n",
      "\n",
      "The following packages will be UPDATED:\n",
      "\n",
      "    beautifulsoup4: 4.6.3-py37_0             --> 4.8.0-py36_0 conda-forge\n",
      "\n",
      "\n",
      "Downloading and Extracting Packages\n",
      "soupsieve-1.9.2      | 59 KB     | ##################################### | 100% \n",
      "beautifulsoup4-4.8.0 | 144 KB    | ##################################### | 100% \n",
      "Preparing transaction: done\n",
      "Verifying transaction: done\n",
      "Executing transaction: done\n",
      "Solving environment: done\n",
      "\n",
      "\n",
      "==> WARNING: A newer version of conda exists. <==\n",
      "  current version: 4.5.11\n",
      "  latest version: 4.7.11\n",
      "\n",
      "Please update conda by running\n",
      "\n",
      "    $ conda update -n base -c defaults conda\n",
      "\n",
      "\n",
      "\n",
      "# All requested packages already installed.\n",
      "\n"
     ]
    }
   ],
   "source": [
    "!conda install -c conda-forge beautifulsoup4 --yes\n",
    "!conda install -c conda-forge html5lib --yes"
   ]
  },
  {
   "cell_type": "markdown",
   "metadata": {},
   "source": [
    "**Import libraries**"
   ]
  },
  {
   "cell_type": "markdown",
   "metadata": {},
   "source": [
    "Apart from the usual libraries like pandas and numpy, the following libraries are needed and should thus be imported: \n",
    "- webpage sraping (BeautifulSoup)\n",
    "- getting and posting html requests\n",
    "- creating a csv file and writing to a csv file"
   ]
  },
  {
   "cell_type": "code",
   "execution_count": 3,
   "metadata": {},
   "outputs": [],
   "source": [
    "from bs4 import BeautifulSoup\n",
    "import requests\n",
    "import csv\n",
    "import pandas as pd\n",
    "import numpy as np"
   ]
  },
  {
   "cell_type": "markdown",
   "metadata": {},
   "source": [
    "**Scrape webpage and write table contents to csv file**"
   ]
  },
  {
   "cell_type": "markdown",
   "metadata": {},
   "source": [
    "The scraping process is coded as follows:\n",
    "- The url of the wikipage is passed as an argument to an html get request. The request is submitted and the resulting response is stored in the variable 'source'. \n",
    "- The source variable is passed along with an html parser to the BeautifulSoup constructor. The output is a tree containing all the parsed html tags. \n",
    "- With the soup's find methods the tree can be traversed using for loops. The tags that we are looking for are the table tag or the tablebody tag with the postcode data. We are specifically looking for the table rows (tag tr) and within the rows the header fields (tag th) and detail fields (tag td). \n",
    "- The text of the postal codes and the non assigned borough and neighbourhood names can be directly retrieved. The text values of assigned borough and neighbourhood names are inside an anchor tag. \n",
    "- The retrieved texts for each table row are written to a list.\n",
    "- A csv file is created and opened in write mode. Every table row list is written to the csv.\n",
    "- Trailing newline characters in text values are replaced with an empty string.\n",
    "- After processing all the rows the csv file is closed.\n",
    "- Most of the code is surrounded by a try-catch-finally clause because unexpected behavior may occur when scraping and the file resource always has to be closed."
   ]
  },
  {
   "cell_type": "code",
   "execution_count": 4,
   "metadata": {},
   "outputs": [],
   "source": [
    "# send an html get request and save the response in variable source\n",
    "source = requests.get('https://en.wikipedia.org/wiki/List_of_postal_codes_of_Canada:_M').text\n",
    "# pass the source variable and a html parser to the Beautiful Soup constructor, the html document is parsed and transformed \n",
    "# into a tree of python objects, soup is the top level object\n",
    "soup = BeautifulSoup(source, 'html5lib')\n",
    "# look for the table tag within class wikitable sortable, then grab the table body\n",
    "table_body = soup.find('table', class_='wikitable sortable').tbody\n",
    "csv_filename = 'm_postal_code_scrape.csv'\n",
    "\n",
    "# create a csv file - the header and detail rows will be written as records \n",
    "csv_file = open(csv_filename, 'w') # the 'w' indicates that the file is opened form writing\n",
    "csv_writer = csv.writer(csv_file,delimiter=';')\n",
    "\n",
    "#put scraper code inside try except clause just in case an unexpected situation may occur\n",
    "try:\n",
    "    for row in table_body.find_all('tr'):\n",
    "        #first check the table header fields\n",
    "        headerrow_list = [] #declare list for header fields within tablerow\n",
    "        for header_cell in row.find_all('th'):\n",
    "            if header_cell and header_cell.text: #check for empty element and epmty text\n",
    "                # add text to headerrow list and remove any trailing newline characters\n",
    "                headerrow_list.append(header_cell.text.replace('\\n', ''))\n",
    "        if len(headerrow_list) > 0: # only write a record if there are elements in the list\n",
    "            csv_writer.writerow(headerrow_list)\n",
    "        detailrow_list = [] #declare list for detail fields within tablerow\n",
    "        for detail_cell in row.find_all('td'):\n",
    "            anchor = detail_cell.find('a')\n",
    "            # extract borough or neighborhood name from anchor tag\n",
    "            if anchor and anchor.text:\n",
    "                # add  anchor text to detailrow list and remove any trailingnewline characters\n",
    "                detailrow_list.append(anchor.text.replace('\\n', ''))\n",
    "            # extract postcode or 'Not assigned'\n",
    "            elif detail_cell and detail_cell.text:\n",
    "                # add text to detailrow list and remove any trailing newline character\n",
    "                detailrow_list.append(detail_cell.text.replace('\\n', ''))\n",
    "        if len(detailrow_list) > 0:  # only write a record if there are elements in the list\n",
    "            csv_writer.writerow(detailrow_list)\n",
    "except Exception as e:\n",
    "    print(e) # print the exception\n",
    "finally:\n",
    "    # close resources\n",
    "    csv_file.close()"
   ]
  },
  {
   "cell_type": "markdown",
   "metadata": {},
   "source": [
    "**Load csv file into dataframe**"
   ]
  },
  {
   "cell_type": "code",
   "execution_count": 5,
   "metadata": {},
   "outputs": [
    {
     "data": {
      "text/html": [
       "<div>\n",
       "<style scoped>\n",
       "    .dataframe tbody tr th:only-of-type {\n",
       "        vertical-align: middle;\n",
       "    }\n",
       "\n",
       "    .dataframe tbody tr th {\n",
       "        vertical-align: top;\n",
       "    }\n",
       "\n",
       "    .dataframe thead th {\n",
       "        text-align: right;\n",
       "    }\n",
       "</style>\n",
       "<table border=\"1\" class=\"dataframe\">\n",
       "  <thead>\n",
       "    <tr style=\"text-align: right;\">\n",
       "      <th></th>\n",
       "      <th>Postcode</th>\n",
       "      <th>Borough</th>\n",
       "      <th>Neighbourhood</th>\n",
       "    </tr>\n",
       "  </thead>\n",
       "  <tbody>\n",
       "    <tr>\n",
       "      <th>0</th>\n",
       "      <td>M1A</td>\n",
       "      <td>Not assigned</td>\n",
       "      <td>Not assigned</td>\n",
       "    </tr>\n",
       "    <tr>\n",
       "      <th>1</th>\n",
       "      <td>M2A</td>\n",
       "      <td>Not assigned</td>\n",
       "      <td>Not assigned</td>\n",
       "    </tr>\n",
       "    <tr>\n",
       "      <th>2</th>\n",
       "      <td>M3A</td>\n",
       "      <td>North York</td>\n",
       "      <td>Parkwoods</td>\n",
       "    </tr>\n",
       "    <tr>\n",
       "      <th>3</th>\n",
       "      <td>M4A</td>\n",
       "      <td>North York</td>\n",
       "      <td>Victoria Village</td>\n",
       "    </tr>\n",
       "    <tr>\n",
       "      <th>4</th>\n",
       "      <td>M5A</td>\n",
       "      <td>Downtown Toronto</td>\n",
       "      <td>Harbourfront</td>\n",
       "    </tr>\n",
       "  </tbody>\n",
       "</table>\n",
       "</div>"
      ],
      "text/plain": [
       "  Postcode           Borough     Neighbourhood\n",
       "0      M1A      Not assigned      Not assigned\n",
       "1      M2A      Not assigned      Not assigned\n",
       "2      M3A        North York         Parkwoods\n",
       "3      M4A        North York  Victoria Village\n",
       "4      M5A  Downtown Toronto      Harbourfront"
      ]
     },
     "execution_count": 5,
     "metadata": {},
     "output_type": "execute_result"
    }
   ],
   "source": [
    "df = pd.read_csv(csv_filename, sep = ';')\n",
    "df.head()"
   ]
  },
  {
   "cell_type": "markdown",
   "metadata": {},
   "source": [
    "**Clean up the dataset and aggregate the dataset**"
   ]
  },
  {
   "cell_type": "markdown",
   "metadata": {},
   "source": [
    "Data is cleaned up and neighbourshoods sharing the same postalcode and borough are aggregated and concatenated."
   ]
  },
  {
   "cell_type": "code",
   "execution_count": 6,
   "metadata": {},
   "outputs": [
    {
     "data": {
      "text/html": [
       "<div>\n",
       "<style scoped>\n",
       "    .dataframe tbody tr th:only-of-type {\n",
       "        vertical-align: middle;\n",
       "    }\n",
       "\n",
       "    .dataframe tbody tr th {\n",
       "        vertical-align: top;\n",
       "    }\n",
       "\n",
       "    .dataframe thead th {\n",
       "        text-align: right;\n",
       "    }\n",
       "</style>\n",
       "<table border=\"1\" class=\"dataframe\">\n",
       "  <thead>\n",
       "    <tr style=\"text-align: right;\">\n",
       "      <th></th>\n",
       "      <th>PostalCode</th>\n",
       "      <th>Borough</th>\n",
       "      <th>Neighbourhood</th>\n",
       "    </tr>\n",
       "  </thead>\n",
       "  <tbody>\n",
       "    <tr>\n",
       "      <th>0</th>\n",
       "      <td>M1B</td>\n",
       "      <td>Scarborough</td>\n",
       "      <td>Rouge, Malvern</td>\n",
       "    </tr>\n",
       "    <tr>\n",
       "      <th>1</th>\n",
       "      <td>M1C</td>\n",
       "      <td>Scarborough</td>\n",
       "      <td>Highland Creek, Rouge Hill, Port Union</td>\n",
       "    </tr>\n",
       "    <tr>\n",
       "      <th>2</th>\n",
       "      <td>M1E</td>\n",
       "      <td>Scarborough</td>\n",
       "      <td>Guildwood, Morningside, West Hill</td>\n",
       "    </tr>\n",
       "    <tr>\n",
       "      <th>3</th>\n",
       "      <td>M1G</td>\n",
       "      <td>Scarborough</td>\n",
       "      <td>Woburn</td>\n",
       "    </tr>\n",
       "    <tr>\n",
       "      <th>4</th>\n",
       "      <td>M1H</td>\n",
       "      <td>Scarborough</td>\n",
       "      <td>Cedarbrae</td>\n",
       "    </tr>\n",
       "    <tr>\n",
       "      <th>5</th>\n",
       "      <td>M1J</td>\n",
       "      <td>Scarborough</td>\n",
       "      <td>Scarborough Village</td>\n",
       "    </tr>\n",
       "    <tr>\n",
       "      <th>6</th>\n",
       "      <td>M1K</td>\n",
       "      <td>Scarborough</td>\n",
       "      <td>East Birchmount Park, Ionview, Kennedy Park</td>\n",
       "    </tr>\n",
       "    <tr>\n",
       "      <th>7</th>\n",
       "      <td>M1L</td>\n",
       "      <td>Scarborough</td>\n",
       "      <td>Clairlea, Golden Mile, Oakridge</td>\n",
       "    </tr>\n",
       "    <tr>\n",
       "      <th>8</th>\n",
       "      <td>M1M</td>\n",
       "      <td>Scarborough</td>\n",
       "      <td>Cliffcrest, Cliffside, Scarborough Village West</td>\n",
       "    </tr>\n",
       "    <tr>\n",
       "      <th>9</th>\n",
       "      <td>M1N</td>\n",
       "      <td>Scarborough</td>\n",
       "      <td>Birch Cliff, Cliffside West</td>\n",
       "    </tr>\n",
       "    <tr>\n",
       "      <th>10</th>\n",
       "      <td>M1P</td>\n",
       "      <td>Scarborough</td>\n",
       "      <td>Dorset Park, Scarborough Town Centre, Wexford ...</td>\n",
       "    </tr>\n",
       "    <tr>\n",
       "      <th>11</th>\n",
       "      <td>M1R</td>\n",
       "      <td>Scarborough</td>\n",
       "      <td>Maryvale, Wexford</td>\n",
       "    </tr>\n",
       "    <tr>\n",
       "      <th>12</th>\n",
       "      <td>M1S</td>\n",
       "      <td>Scarborough</td>\n",
       "      <td>Agincourt</td>\n",
       "    </tr>\n",
       "    <tr>\n",
       "      <th>13</th>\n",
       "      <td>M1T</td>\n",
       "      <td>Scarborough</td>\n",
       "      <td>Clarks Corners, Sullivan, Tam O'Shanter</td>\n",
       "    </tr>\n",
       "    <tr>\n",
       "      <th>14</th>\n",
       "      <td>M1V</td>\n",
       "      <td>Scarborough</td>\n",
       "      <td>Agincourt North, L'Amoreaux East, Milliken, St...</td>\n",
       "    </tr>\n",
       "    <tr>\n",
       "      <th>15</th>\n",
       "      <td>M1W</td>\n",
       "      <td>Scarborough</td>\n",
       "      <td>L'Amoreaux West</td>\n",
       "    </tr>\n",
       "    <tr>\n",
       "      <th>16</th>\n",
       "      <td>M1X</td>\n",
       "      <td>Scarborough</td>\n",
       "      <td>Upper Rouge</td>\n",
       "    </tr>\n",
       "    <tr>\n",
       "      <th>17</th>\n",
       "      <td>M2H</td>\n",
       "      <td>North York</td>\n",
       "      <td>Hillcrest Village</td>\n",
       "    </tr>\n",
       "    <tr>\n",
       "      <th>18</th>\n",
       "      <td>M2J</td>\n",
       "      <td>North York</td>\n",
       "      <td>Fairview, Henry Farm, Oriole</td>\n",
       "    </tr>\n",
       "    <tr>\n",
       "      <th>19</th>\n",
       "      <td>M2K</td>\n",
       "      <td>North York</td>\n",
       "      <td>Bayview Village</td>\n",
       "    </tr>\n",
       "  </tbody>\n",
       "</table>\n",
       "</div>"
      ],
      "text/plain": [
       "   PostalCode      Borough                                      Neighbourhood\n",
       "0         M1B  Scarborough                                     Rouge, Malvern\n",
       "1         M1C  Scarborough             Highland Creek, Rouge Hill, Port Union\n",
       "2         M1E  Scarborough                  Guildwood, Morningside, West Hill\n",
       "3         M1G  Scarborough                                             Woburn\n",
       "4         M1H  Scarborough                                          Cedarbrae\n",
       "5         M1J  Scarborough                                Scarborough Village\n",
       "6         M1K  Scarborough        East Birchmount Park, Ionview, Kennedy Park\n",
       "7         M1L  Scarborough                    Clairlea, Golden Mile, Oakridge\n",
       "8         M1M  Scarborough    Cliffcrest, Cliffside, Scarborough Village West\n",
       "9         M1N  Scarborough                        Birch Cliff, Cliffside West\n",
       "10        M1P  Scarborough  Dorset Park, Scarborough Town Centre, Wexford ...\n",
       "11        M1R  Scarborough                                  Maryvale, Wexford\n",
       "12        M1S  Scarborough                                          Agincourt\n",
       "13        M1T  Scarborough            Clarks Corners, Sullivan, Tam O'Shanter\n",
       "14        M1V  Scarborough  Agincourt North, L'Amoreaux East, Milliken, St...\n",
       "15        M1W  Scarborough                                    L'Amoreaux West\n",
       "16        M1X  Scarborough                                        Upper Rouge\n",
       "17        M2H   North York                                  Hillcrest Village\n",
       "18        M2J   North York                       Fairview, Henry Farm, Oriole\n",
       "19        M2K   North York                                    Bayview Village"
      ]
     },
     "execution_count": 6,
     "metadata": {},
     "output_type": "execute_result"
    }
   ],
   "source": [
    "# replace column name Postcode with PostalCode\n",
    "df.rename(columns = {'Postcode':'PostalCode'},inplace=True)\n",
    "# remove rows with both Borough and Neighbourhood 'Not assigned'\n",
    "df = df[(df.Borough != 'Not assigned') | (df.Neighbourhood != 'Not assigned')]\n",
    "# replace Neigbourhood 'Not assigned' value with Borough value\n",
    "df.Neighbourhood.replace('Not assigned',df.Borough,inplace=True)\n",
    "# aggregate dataframe on PostalCode and Borough, concatenate Neighbourhood values, separated by comma\n",
    "df = df.groupby(['PostalCode','Borough'])['Neighbourhood'].apply(', '.join).reset_index()\n",
    "\n",
    "df.head(20)"
   ]
  },
  {
   "cell_type": "markdown",
   "metadata": {},
   "source": [
    "**Number of rows in dataframe**"
   ]
  },
  {
   "cell_type": "code",
   "execution_count": 11,
   "metadata": {},
   "outputs": [
    {
     "name": "stdout",
     "output_type": "stream",
     "text": [
      "Number of rows and columns in dataframe:  (103, 3)\n"
     ]
    }
   ],
   "source": [
    "print(\"Number of rows and columns in dataframe: \",df.shape)"
   ]
  }
 ],
 "metadata": {
  "kernelspec": {
   "display_name": "Python",
   "language": "python",
   "name": "conda-env-python-py"
  },
  "language_info": {
   "codemirror_mode": {
    "name": "ipython",
    "version": 3
   },
   "file_extension": ".py",
   "mimetype": "text/x-python",
   "name": "python",
   "nbconvert_exporter": "python",
   "pygments_lexer": "ipython3",
   "version": "3.6.7"
  }
 },
 "nbformat": 4,
 "nbformat_minor": 4
}
